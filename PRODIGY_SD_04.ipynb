{
 "cells": [
  {
   "cell_type": "markdown",
   "id": "203dadc5-f26b-4814-ad27-19410b1d680b",
   "metadata": {},
   "source": [
    "### Sudoku Puzzle Solver"
   ]
  },
  {
   "cell_type": "code",
   "execution_count": 1,
   "id": "2b7b0a2d",
   "metadata": {},
   "outputs": [
    {
     "name": "stdout",
     "output_type": "stream",
     "text": [
      "Sudoku Solved:\n",
      "5 3 4 6 7 8 9 1 2 \n",
      "6 7 2 1 9 5 3 4 8 \n",
      "1 9 8 3 4 2 5 6 7 \n",
      "8 5 9 7 6 1 4 2 3 \n",
      "4 2 6 8 5 3 7 9 1 \n",
      "7 1 3 9 2 4 8 5 6 \n",
      "9 6 1 5 3 7 2 8 4 \n",
      "2 8 7 4 1 9 6 3 5 \n",
      "3 4 5 2 8 6 1 7 9 \n"
     ]
    }
   ],
   "source": [
    "def is_valid(board, row, col, num):\n",
    "    # Check if the number is not present in the current row and column\n",
    "    for i in range(9):\n",
    "        if board[row][i] == num or board[i][col] == num:\n",
    "            return False\n",
    "\n",
    "    # Check if the number is not present in the 3x3 subgrid\n",
    "    start_row, start_col = 3 * (row // 3), 3 * (col // 3)\n",
    "    for i in range(3):\n",
    "        for j in range(3):\n",
    "            if board[start_row + i][start_col + j] == num:\n",
    "                return False\n",
    "\n",
    "    return True\n",
    "\n",
    "def find_empty_location(board):\n",
    "    # Find the first empty location in the board (value 0)\n",
    "    for i in range(9):\n",
    "        for j in range(9):\n",
    "            if board[i][j] == 0:\n",
    "                return i, j\n",
    "    return None, None\n",
    "\n",
    "def solve_sudoku(board):\n",
    "    # Find an empty location\n",
    "    row, col = find_empty_location(board)\n",
    "\n",
    "    # If there is no empty location, the puzzle is solved\n",
    "    if row is None and col is None:\n",
    "        return True\n",
    "\n",
    "    # Try placing numbers from 1 to 9\n",
    "    for num in range(1, 10):\n",
    "        if is_valid(board, row, col, num):\n",
    "            # Place the number if it's valid\n",
    "            board[row][col] = num\n",
    "\n",
    "            # Recursively try to solve the rest of the puzzle\n",
    "            if solve_sudoku(board):\n",
    "                return True\n",
    "\n",
    "            # If placing the current number doesn't lead to a solution, backtrack\n",
    "            board[row][col] = 0\n",
    "\n",
    "    # No valid number found, backtrack to the previous decision\n",
    "    return False\n",
    "\n",
    "def display_sudoku(board):\n",
    "    for i in range(9):\n",
    "        for j in range(9):\n",
    "            print(board[i][j], end=\" \")\n",
    "        print()\n",
    "\n",
    "# Example Sudoku grid (0 represents empty cells)\n",
    "sudoku_grid = [\n",
    "    [5, 3, 0, 0, 7, 0, 0, 0, 0],\n",
    "    [6, 0, 0, 1, 9, 5, 0, 0, 0],\n",
    "    [0, 9, 8, 0, 0, 0, 0, 6, 0],\n",
    "    [8, 0, 0, 0, 6, 0, 0, 0, 3],\n",
    "    [4, 0, 0, 8, 0, 3, 0, 0, 1],\n",
    "    [7, 0, 0, 0, 2, 0, 0, 0, 6],\n",
    "    [0, 6, 0, 0, 0, 0, 2, 8, 0],\n",
    "    [0, 0, 0, 4, 1, 9, 0, 0, 5],\n",
    "    [0, 0, 0, 0, 8, 0, 0, 7, 9]\n",
    "]\n",
    "\n",
    "# Solve the Sudoku puzzle\n",
    "if solve_sudoku(sudoku_grid):\n",
    "    print(\"Sudoku Solved:\")\n",
    "    display_sudoku(sudoku_grid)\n",
    "else:\n",
    "    print(\"No solution exists.\")\n"
   ]
  },
  {
   "cell_type": "code",
   "execution_count": null,
   "id": "351fb5a6",
   "metadata": {},
   "outputs": [],
   "source": []
  }
 ],
 "metadata": {
  "kernelspec": {
   "display_name": "Python 3 (ipykernel)",
   "language": "python",
   "name": "python3"
  },
  "language_info": {
   "codemirror_mode": {
    "name": "ipython",
    "version": 3
   },
   "file_extension": ".py",
   "mimetype": "text/x-python",
   "name": "python",
   "nbconvert_exporter": "python",
   "pygments_lexer": "ipython3",
   "version": "3.10.7"
  }
 },
 "nbformat": 4,
 "nbformat_minor": 5
}
